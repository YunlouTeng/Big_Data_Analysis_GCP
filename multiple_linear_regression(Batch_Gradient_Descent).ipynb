{
  "nbformat": 4,
  "nbformat_minor": 0,
  "metadata": {
    "colab": {
      "provenance": [],
      "collapsed_sections": [],
      "mount_file_id": "1ogl_xYIv_dRLn46hEGFmwedtHDdgbQOD",
      "authorship_tag": "ABX9TyMwKtDB8jvMUgUdVsxAeRJW",
      "include_colab_link": true
    },
    "kernelspec": {
      "name": "python3",
      "display_name": "Python 3"
    },
    "language_info": {
      "name": "python"
    }
  },
  "cells": [
    {
      "cell_type": "markdown",
      "metadata": {
        "id": "view-in-github",
        "colab_type": "text"
      },
      "source": [
        "<a href=\"https://colab.research.google.com/github/YunlouTeng/Big_Data_Analysis_GCP/blob/main/multiple_linear_regression(Batch_Gradient_Descent).ipynb\" target=\"_parent\"><img src=\"https://colab.research.google.com/assets/colab-badge.svg\" alt=\"Open In Colab\"/></a>"
      ]
    },
    {
      "cell_type": "code",
      "execution_count": null,
      "metadata": {
        "id": "sm-9dCyunIHX",
        "colab": {
          "base_uri": "https://localhost:8080/"
        },
        "outputId": "2c53a7fa-78d1-4d07-a3f9-f7f2f3619a8b"
      },
      "outputs": [
        {
          "output_type": "stream",
          "name": "stdout",
          "text": [
            "\u001b[K     |████████████████████████████████| 281.4 MB 43 kB/s \n",
            "\u001b[K     |████████████████████████████████| 199 kB 49.3 MB/s \n",
            "\u001b[?25h  Building wheel for pyspark (setup.py) ... \u001b[?25l\u001b[?25hdone\n"
          ]
        }
      ],
      "source": [
        "#pip install --ignore-installed -q pyspark"
      ]
    },
    {
      "cell_type": "code",
      "source": [
        "from __future__ import print_function\n",
        "import sys\n",
        "from operator import add\n",
        "from pyspark import SparkContext\n",
        "\n",
        "\n",
        "if __name__ == \"__main__\":\n",
        "    if len(sys.argv) != 3:\n",
        "        print(\"Usage: wordcount <file> <output> \", file=sys.stderr)\n",
        "        exit(-1)"
      ],
      "metadata": {
        "id": "HnnFKquX18vt"
      },
      "execution_count": null,
      "outputs": []
    },
    {
      "cell_type": "code",
      "source": [
        "import requests\n",
        "import numpy as np\n",
        "\n",
        "from pyspark import SparkConf,SparkContext\n",
        "from pyspark.streaming import StreamingContext\n",
        "\n",
        "from pyspark.sql import SparkSession\n",
        "from pyspark.sql import SQLContext\n",
        "\n",
        "from pyspark.sql.types import *\n",
        "from pyspark.sql import functions as func\n",
        "from pyspark.sql.functions import *\n",
        "\n",
        "spark = SparkSession.builder.master(\"local[*]\").getOrCreate()\n",
        "sc = SparkContext.getOrCreate()\n",
        "sqlContext = SQLContext(sc)"
      ],
      "metadata": {
        "id": "PZF_U1Pvx5CS",
        "colab": {
          "base_uri": "https://localhost:8080/"
        },
        "outputId": "0088c541-d76c-4cd6-c86f-6c3ec7341cc2"
      },
      "execution_count": null,
      "outputs": [
        {
          "output_type": "stream",
          "name": "stderr",
          "text": [
            "/usr/local/lib/python3.7/dist-packages/pyspark/sql/context.py:114: FutureWarning: Deprecated in 3.0.0. Use SparkSession.builder.getOrCreate() instead.\n",
            "  FutureWarning,\n"
          ]
        }
      ]
    },
    {
      "cell_type": "code",
      "source": [
        "data= sys.argv[1]\n",
        "#data = '/content/drive/MyDrive/BU/cs777/taxi-data-sorted-small.csv.bz2'"
      ],
      "metadata": {
        "id": "muuhxsDczeCl"
      },
      "execution_count": null,
      "outputs": []
    },
    {
      "cell_type": "code",
      "source": [
        "schema = StructType() \\\n",
        "      .add(\"Taxi_id\",StringType(),True) \\\n",
        "      .add(\"Driver_id\",StringType(),True) \\\n",
        "      .add(\"pickup_datetime\",TimestampType(),True) \\\n",
        "      .add(\"dropoff_datetime\",TimestampType(),True) \\\n",
        "      .add(\"trip_time_in_secs\",ShortType(),True) \\\n",
        "      .add(\"trip_distance\",FloatType(),True) \\\n",
        "      .add(\"pickup_longitude\",FloatType(),True) \\\n",
        "      .add(\"pickup_latitude\",FloatType(),True) \\\n",
        "      .add(\"dropoff_longitude\",FloatType(),True) \\\n",
        "      .add(\"dropoff_latitude\",FloatType(),True) \\\n",
        "      .add(\"payment_type\",StringType(),True) \\\n",
        "      .add(\"fare_amount\",FloatType(),True) \\\n",
        "      .add(\"surcharge\",FloatType(),True) \\\n",
        "      .add(\"mta_tax\",FloatType(),True) \\\n",
        "      .add(\"tip_amount\",FloatType(),True) \\\n",
        "      .add(\"toll_amount\",FloatType(),True) \\\n",
        "      .add(\"toal_amount\",FloatType(),True)"
      ],
      "metadata": {
        "id": "UdthysM39yY6"
      },
      "execution_count": null,
      "outputs": []
    },
    {
      "cell_type": "code",
      "source": [
        "taxi = spark.read.format(\"csv\") \\\n",
        "      .schema(schema) \\\n",
        "      .load(data)"
      ],
      "metadata": {
        "id": "JJj8xSs-zeLl"
      },
      "execution_count": null,
      "outputs": []
    },
    {
      "cell_type": "markdown",
      "source": [
        "###Data Clean-up Step"
      ],
      "metadata": {
        "id": "VdZehMDS1lS7"
      }
    },
    {
      "cell_type": "code",
      "source": [
        "#remove all taxi rides that are less than 2 mins or more than 1 hour\n",
        "taxi = taxi.filter((taxi.trip_time_in_secs > 120) & (taxi.trip_time_in_secs < 3600))\n",
        "#Remove\tall\ttaxi\trides\tthat\thave\t”fare\tamount”\tless\tthan\t3\tdollars or\tmore\tthan\t200\tdollars\n",
        "taxi = taxi.filter((taxi.fare_amount > 3) & (taxi.fare_amount < 200))\n",
        "#Remove\tall\ttaxi\trides\tthat\thave\t”trip distance”\tless\tthan\t1\tmile\tor\tmore\tthan\t50\tmiles\n",
        "taxi = taxi.filter((taxi.trip_distance > 1) & (taxi.trip_distance < 50))\n",
        "#Remove\tall\ttaxi\trides\tthat\thave\t”tolls\tamount”\tless\tthan\t3\tdollars.\n",
        "taxi = taxi.filter(taxi.toll_amount > 3)"
      ],
      "metadata": {
        "id": "UwHdqeswzw74"
      },
      "execution_count": null,
      "outputs": []
    },
    {
      "cell_type": "code",
      "source": [
        "X = np.array(taxi.select([\"trip_time_in_secs\",\"trip_distance\",\"fare_amount\",\"toll_amount\"]).collect())\n",
        "y = np.array(taxi.select(\"toal_amount\").collect())\n",
        "\n",
        "#scale the data\n",
        "X = (X - X.mean()) / X.std()"
      ],
      "metadata": {
        "id": "UkSF8QKXakKG"
      },
      "execution_count": null,
      "outputs": []
    },
    {
      "cell_type": "code",
      "source": [
        "class LinReg:\n",
        "    \n",
        "    # Initializing lr: learning rate, epochs: no. of iterations, \n",
        "    # weights & bias: parameters as None\n",
        "    # default lr: 0.0001, epochs: 100\n",
        "    def __init__(self, lr=0.0001, epochs=100):\n",
        "      \n",
        "        self.lr = lr\n",
        "        self.epochs = epochs\n",
        "        self.weights = None\n",
        "        self.bias = None\n",
        "    # Training function: fit\n",
        "    def fit(self, X, y):\n",
        "        # shape of X: (number of training examples: m, number of    \n",
        "        # features: n)\n",
        "        m, n = X.shape\n",
        "        # Initializing weights as a matrix of zeros of size: (number\n",
        "        # of features: n, 1) and bias as 0\n",
        "        self.weights = np.zeros((n,1))\n",
        "        self.bias = 0.1\n",
        "        \n",
        "        # reshaping y as (m,1) in case your dataset initialized as \n",
        "        # (m,) which can cause problems\n",
        "        y = y.reshape(m,1)\n",
        "        \n",
        "        # empty lsit to store losses so we can plot them later \n",
        "        # against epochs\n",
        "        losses = []\n",
        "        weights = []\n",
        "        bias = []\n",
        "        \n",
        "        # Gradient Descent loop/ Training loop\n",
        "        for epoch in range(self.epochs):\n",
        "\n",
        "            weights.append(self.weights)\n",
        "            bias.append(self.bias)\n",
        "        \n",
        "            # Calculating prediction: y_hat or h(x)\n",
        "            y_hat = np.dot(X, self.weights) + self.bias\n",
        "\n",
        "     \n",
        "            # Calculting loss\n",
        "            loss = np.sum((y_hat - y)**2)\n",
        "    \n",
        "            # Appending loss in list: losses\n",
        "            losses.append(loss)\n",
        "            \n",
        "    \n",
        "            # Calculating derivatives of parameters(weights, and \n",
        "            # bias) \n",
        "            dw = (1/m)*np.dot(X.T, (y_hat - y))\n",
        "            db = (1/m)*np.sum((y_hat - y))\n",
        "   # Updating the parameters: parameter := parameter - lr*derivative\n",
        "   # of loss/cost w.r.t parameter)\n",
        "            \n",
        "            self.bias -= self.lr*db\n",
        "            self.weights -= self.lr*dw\n",
        "        # returning the parameter so we can look at them later\n",
        "        return self.weights, self.bias, weights, bias, losses\n",
        "    # Predicting(calculating y_hat with our updated weights) for the \n",
        "    # testing/validation     \n",
        "    def predict(self, X):\n",
        "        return np.dot(X, self.weights) + self.bias"
      ],
      "metadata": {
        "id": "Fm8xlICvxIzx"
      },
      "execution_count": null,
      "outputs": []
    },
    {
      "cell_type": "code",
      "source": [
        "model = LinReg(epochs=100)"
      ],
      "metadata": {
        "id": "XZszoCiDbQyx"
      },
      "execution_count": null,
      "outputs": []
    },
    {
      "cell_type": "code",
      "source": [
        "final_w, final_b, list_w, list_b, list_lost = model.fit(X,y)"
      ],
      "metadata": {
        "id": "o11THKkSbQ6D"
      },
      "execution_count": null,
      "outputs": []
    },
    {
      "cell_type": "code",
      "source": [
        "print(list_w)"
      ],
      "metadata": {
        "colab": {
          "base_uri": "https://localhost:8080/"
        },
        "id": "S_6dIUBrbRJK",
        "outputId": "586ba824-c6da-4d4e-e6b4-c3a200ce179e"
      },
      "execution_count": null,
      "outputs": [
        {
          "output_type": "stream",
          "name": "stdout",
          "text": [
            "[array([[ 1.09535286],\n",
            "       [-0.36797617],\n",
            "       [-0.35121908],\n",
            "       [-0.37415654]]), array([[ 1.09535286],\n",
            "       [-0.36797617],\n",
            "       [-0.35121908],\n",
            "       [-0.37415654]]), array([[ 1.09535286],\n",
            "       [-0.36797617],\n",
            "       [-0.35121908],\n",
            "       [-0.37415654]]), array([[ 1.09535286],\n",
            "       [-0.36797617],\n",
            "       [-0.35121908],\n",
            "       [-0.37415654]]), array([[ 1.09535286],\n",
            "       [-0.36797617],\n",
            "       [-0.35121908],\n",
            "       [-0.37415654]]), array([[ 1.09535286],\n",
            "       [-0.36797617],\n",
            "       [-0.35121908],\n",
            "       [-0.37415654]]), array([[ 1.09535286],\n",
            "       [-0.36797617],\n",
            "       [-0.35121908],\n",
            "       [-0.37415654]]), array([[ 1.09535286],\n",
            "       [-0.36797617],\n",
            "       [-0.35121908],\n",
            "       [-0.37415654]]), array([[ 1.09535286],\n",
            "       [-0.36797617],\n",
            "       [-0.35121908],\n",
            "       [-0.37415654]]), array([[ 1.09535286],\n",
            "       [-0.36797617],\n",
            "       [-0.35121908],\n",
            "       [-0.37415654]]), array([[ 1.09535286],\n",
            "       [-0.36797617],\n",
            "       [-0.35121908],\n",
            "       [-0.37415654]]), array([[ 1.09535286],\n",
            "       [-0.36797617],\n",
            "       [-0.35121908],\n",
            "       [-0.37415654]]), array([[ 1.09535286],\n",
            "       [-0.36797617],\n",
            "       [-0.35121908],\n",
            "       [-0.37415654]]), array([[ 1.09535286],\n",
            "       [-0.36797617],\n",
            "       [-0.35121908],\n",
            "       [-0.37415654]]), array([[ 1.09535286],\n",
            "       [-0.36797617],\n",
            "       [-0.35121908],\n",
            "       [-0.37415654]]), array([[ 1.09535286],\n",
            "       [-0.36797617],\n",
            "       [-0.35121908],\n",
            "       [-0.37415654]]), array([[ 1.09535286],\n",
            "       [-0.36797617],\n",
            "       [-0.35121908],\n",
            "       [-0.37415654]]), array([[ 1.09535286],\n",
            "       [-0.36797617],\n",
            "       [-0.35121908],\n",
            "       [-0.37415654]]), array([[ 1.09535286],\n",
            "       [-0.36797617],\n",
            "       [-0.35121908],\n",
            "       [-0.37415654]]), array([[ 1.09535286],\n",
            "       [-0.36797617],\n",
            "       [-0.35121908],\n",
            "       [-0.37415654]]), array([[ 1.09535286],\n",
            "       [-0.36797617],\n",
            "       [-0.35121908],\n",
            "       [-0.37415654]]), array([[ 1.09535286],\n",
            "       [-0.36797617],\n",
            "       [-0.35121908],\n",
            "       [-0.37415654]]), array([[ 1.09535286],\n",
            "       [-0.36797617],\n",
            "       [-0.35121908],\n",
            "       [-0.37415654]]), array([[ 1.09535286],\n",
            "       [-0.36797617],\n",
            "       [-0.35121908],\n",
            "       [-0.37415654]]), array([[ 1.09535286],\n",
            "       [-0.36797617],\n",
            "       [-0.35121908],\n",
            "       [-0.37415654]]), array([[ 1.09535286],\n",
            "       [-0.36797617],\n",
            "       [-0.35121908],\n",
            "       [-0.37415654]]), array([[ 1.09535286],\n",
            "       [-0.36797617],\n",
            "       [-0.35121908],\n",
            "       [-0.37415654]]), array([[ 1.09535286],\n",
            "       [-0.36797617],\n",
            "       [-0.35121908],\n",
            "       [-0.37415654]]), array([[ 1.09535286],\n",
            "       [-0.36797617],\n",
            "       [-0.35121908],\n",
            "       [-0.37415654]]), array([[ 1.09535286],\n",
            "       [-0.36797617],\n",
            "       [-0.35121908],\n",
            "       [-0.37415654]]), array([[ 1.09535286],\n",
            "       [-0.36797617],\n",
            "       [-0.35121908],\n",
            "       [-0.37415654]]), array([[ 1.09535286],\n",
            "       [-0.36797617],\n",
            "       [-0.35121908],\n",
            "       [-0.37415654]]), array([[ 1.09535286],\n",
            "       [-0.36797617],\n",
            "       [-0.35121908],\n",
            "       [-0.37415654]]), array([[ 1.09535286],\n",
            "       [-0.36797617],\n",
            "       [-0.35121908],\n",
            "       [-0.37415654]]), array([[ 1.09535286],\n",
            "       [-0.36797617],\n",
            "       [-0.35121908],\n",
            "       [-0.37415654]]), array([[ 1.09535286],\n",
            "       [-0.36797617],\n",
            "       [-0.35121908],\n",
            "       [-0.37415654]]), array([[ 1.09535286],\n",
            "       [-0.36797617],\n",
            "       [-0.35121908],\n",
            "       [-0.37415654]]), array([[ 1.09535286],\n",
            "       [-0.36797617],\n",
            "       [-0.35121908],\n",
            "       [-0.37415654]]), array([[ 1.09535286],\n",
            "       [-0.36797617],\n",
            "       [-0.35121908],\n",
            "       [-0.37415654]]), array([[ 1.09535286],\n",
            "       [-0.36797617],\n",
            "       [-0.35121908],\n",
            "       [-0.37415654]]), array([[ 1.09535286],\n",
            "       [-0.36797617],\n",
            "       [-0.35121908],\n",
            "       [-0.37415654]]), array([[ 1.09535286],\n",
            "       [-0.36797617],\n",
            "       [-0.35121908],\n",
            "       [-0.37415654]]), array([[ 1.09535286],\n",
            "       [-0.36797617],\n",
            "       [-0.35121908],\n",
            "       [-0.37415654]]), array([[ 1.09535286],\n",
            "       [-0.36797617],\n",
            "       [-0.35121908],\n",
            "       [-0.37415654]]), array([[ 1.09535286],\n",
            "       [-0.36797617],\n",
            "       [-0.35121908],\n",
            "       [-0.37415654]]), array([[ 1.09535286],\n",
            "       [-0.36797617],\n",
            "       [-0.35121908],\n",
            "       [-0.37415654]]), array([[ 1.09535286],\n",
            "       [-0.36797617],\n",
            "       [-0.35121908],\n",
            "       [-0.37415654]]), array([[ 1.09535286],\n",
            "       [-0.36797617],\n",
            "       [-0.35121908],\n",
            "       [-0.37415654]]), array([[ 1.09535286],\n",
            "       [-0.36797617],\n",
            "       [-0.35121908],\n",
            "       [-0.37415654]]), array([[ 1.09535286],\n",
            "       [-0.36797617],\n",
            "       [-0.35121908],\n",
            "       [-0.37415654]]), array([[ 1.09535286],\n",
            "       [-0.36797617],\n",
            "       [-0.35121908],\n",
            "       [-0.37415654]]), array([[ 1.09535286],\n",
            "       [-0.36797617],\n",
            "       [-0.35121908],\n",
            "       [-0.37415654]]), array([[ 1.09535286],\n",
            "       [-0.36797617],\n",
            "       [-0.35121908],\n",
            "       [-0.37415654]]), array([[ 1.09535286],\n",
            "       [-0.36797617],\n",
            "       [-0.35121908],\n",
            "       [-0.37415654]]), array([[ 1.09535286],\n",
            "       [-0.36797617],\n",
            "       [-0.35121908],\n",
            "       [-0.37415654]]), array([[ 1.09535286],\n",
            "       [-0.36797617],\n",
            "       [-0.35121908],\n",
            "       [-0.37415654]]), array([[ 1.09535286],\n",
            "       [-0.36797617],\n",
            "       [-0.35121908],\n",
            "       [-0.37415654]]), array([[ 1.09535286],\n",
            "       [-0.36797617],\n",
            "       [-0.35121908],\n",
            "       [-0.37415654]]), array([[ 1.09535286],\n",
            "       [-0.36797617],\n",
            "       [-0.35121908],\n",
            "       [-0.37415654]]), array([[ 1.09535286],\n",
            "       [-0.36797617],\n",
            "       [-0.35121908],\n",
            "       [-0.37415654]]), array([[ 1.09535286],\n",
            "       [-0.36797617],\n",
            "       [-0.35121908],\n",
            "       [-0.37415654]]), array([[ 1.09535286],\n",
            "       [-0.36797617],\n",
            "       [-0.35121908],\n",
            "       [-0.37415654]]), array([[ 1.09535286],\n",
            "       [-0.36797617],\n",
            "       [-0.35121908],\n",
            "       [-0.37415654]]), array([[ 1.09535286],\n",
            "       [-0.36797617],\n",
            "       [-0.35121908],\n",
            "       [-0.37415654]]), array([[ 1.09535286],\n",
            "       [-0.36797617],\n",
            "       [-0.35121908],\n",
            "       [-0.37415654]]), array([[ 1.09535286],\n",
            "       [-0.36797617],\n",
            "       [-0.35121908],\n",
            "       [-0.37415654]]), array([[ 1.09535286],\n",
            "       [-0.36797617],\n",
            "       [-0.35121908],\n",
            "       [-0.37415654]]), array([[ 1.09535286],\n",
            "       [-0.36797617],\n",
            "       [-0.35121908],\n",
            "       [-0.37415654]]), array([[ 1.09535286],\n",
            "       [-0.36797617],\n",
            "       [-0.35121908],\n",
            "       [-0.37415654]]), array([[ 1.09535286],\n",
            "       [-0.36797617],\n",
            "       [-0.35121908],\n",
            "       [-0.37415654]]), array([[ 1.09535286],\n",
            "       [-0.36797617],\n",
            "       [-0.35121908],\n",
            "       [-0.37415654]]), array([[ 1.09535286],\n",
            "       [-0.36797617],\n",
            "       [-0.35121908],\n",
            "       [-0.37415654]]), array([[ 1.09535286],\n",
            "       [-0.36797617],\n",
            "       [-0.35121908],\n",
            "       [-0.37415654]]), array([[ 1.09535286],\n",
            "       [-0.36797617],\n",
            "       [-0.35121908],\n",
            "       [-0.37415654]]), array([[ 1.09535286],\n",
            "       [-0.36797617],\n",
            "       [-0.35121908],\n",
            "       [-0.37415654]]), array([[ 1.09535286],\n",
            "       [-0.36797617],\n",
            "       [-0.35121908],\n",
            "       [-0.37415654]]), array([[ 1.09535286],\n",
            "       [-0.36797617],\n",
            "       [-0.35121908],\n",
            "       [-0.37415654]]), array([[ 1.09535286],\n",
            "       [-0.36797617],\n",
            "       [-0.35121908],\n",
            "       [-0.37415654]]), array([[ 1.09535286],\n",
            "       [-0.36797617],\n",
            "       [-0.35121908],\n",
            "       [-0.37415654]]), array([[ 1.09535286],\n",
            "       [-0.36797617],\n",
            "       [-0.35121908],\n",
            "       [-0.37415654]]), array([[ 1.09535286],\n",
            "       [-0.36797617],\n",
            "       [-0.35121908],\n",
            "       [-0.37415654]]), array([[ 1.09535286],\n",
            "       [-0.36797617],\n",
            "       [-0.35121908],\n",
            "       [-0.37415654]]), array([[ 1.09535286],\n",
            "       [-0.36797617],\n",
            "       [-0.35121908],\n",
            "       [-0.37415654]]), array([[ 1.09535286],\n",
            "       [-0.36797617],\n",
            "       [-0.35121908],\n",
            "       [-0.37415654]]), array([[ 1.09535286],\n",
            "       [-0.36797617],\n",
            "       [-0.35121908],\n",
            "       [-0.37415654]]), array([[ 1.09535286],\n",
            "       [-0.36797617],\n",
            "       [-0.35121908],\n",
            "       [-0.37415654]]), array([[ 1.09535286],\n",
            "       [-0.36797617],\n",
            "       [-0.35121908],\n",
            "       [-0.37415654]]), array([[ 1.09535286],\n",
            "       [-0.36797617],\n",
            "       [-0.35121908],\n",
            "       [-0.37415654]]), array([[ 1.09535286],\n",
            "       [-0.36797617],\n",
            "       [-0.35121908],\n",
            "       [-0.37415654]]), array([[ 1.09535286],\n",
            "       [-0.36797617],\n",
            "       [-0.35121908],\n",
            "       [-0.37415654]]), array([[ 1.09535286],\n",
            "       [-0.36797617],\n",
            "       [-0.35121908],\n",
            "       [-0.37415654]]), array([[ 1.09535286],\n",
            "       [-0.36797617],\n",
            "       [-0.35121908],\n",
            "       [-0.37415654]]), array([[ 1.09535286],\n",
            "       [-0.36797617],\n",
            "       [-0.35121908],\n",
            "       [-0.37415654]]), array([[ 1.09535286],\n",
            "       [-0.36797617],\n",
            "       [-0.35121908],\n",
            "       [-0.37415654]]), array([[ 1.09535286],\n",
            "       [-0.36797617],\n",
            "       [-0.35121908],\n",
            "       [-0.37415654]]), array([[ 1.09535286],\n",
            "       [-0.36797617],\n",
            "       [-0.35121908],\n",
            "       [-0.37415654]]), array([[ 1.09535286],\n",
            "       [-0.36797617],\n",
            "       [-0.35121908],\n",
            "       [-0.37415654]]), array([[ 1.09535286],\n",
            "       [-0.36797617],\n",
            "       [-0.35121908],\n",
            "       [-0.37415654]]), array([[ 1.09535286],\n",
            "       [-0.36797617],\n",
            "       [-0.35121908],\n",
            "       [-0.37415654]]), array([[ 1.09535286],\n",
            "       [-0.36797617],\n",
            "       [-0.35121908],\n",
            "       [-0.37415654]])]\n"
          ]
        }
      ]
    },
    {
      "cell_type": "code",
      "source": [
        "print(list_b)"
      ],
      "metadata": {
        "colab": {
          "base_uri": "https://localhost:8080/"
        },
        "id": "IgYeOF10csLt",
        "outputId": "ea435184-76eb-4f7f-ea00-2d7f7536b9dd"
      },
      "execution_count": null,
      "outputs": [
        {
          "output_type": "stream",
          "name": "stdout",
          "text": [
            "[0.1, 0.1064871943661248, 0.11297115201728392, 0.11945187457031509, 0.12592936364124838, 0.13240362084530663, 0.13887464779690578, 0.14534244610965535, 0.1518070173963588, 0.15826836326901395, 0.16472648533881337, 0.17118138521614482, 0.17763306451059158, 0.18408152483093293, 0.1905267677851445, 0.19696879498039865, 0.20340760802306498, 0.20984320851871063, 0.21627559807210067, 0.2227047782871986, 0.22913075076716663, 0.2355535171143662, 0.2419730789303583, 0.24838943781590386, 0.2548025953709642, 0.2612125531947015, 0.2676193128854789, 0.27402287604086134, 0.2804232442576156, 0.28682041913171086, 0.29321440225831896, 0.2996051952318151, 0.3059927996457779, 0.31237721709299, 0.3187584491654383, 0.32513649745431455, 0.33151136355001565, 0.337883049042144, 0.344251555519508, 0.3506168845701223, 0.35697903778120843, 0.3633380167391949, 0.36969382302971787, 0.37604645823762134, 0.3823959239469577, 0.388742221740988, 0.3950853532021824, 0.4014253199122207, 0.40776212345199236, 0.41409576540159737, 0.4204262473403463, 0.4267535708467608, 0.43307773749857403, 0.439398748872731, 0.445716606545389, 0.45203131209191805, 0.4583428670869011, 0.4646512731041346, 0.47095653171662893, 0.47725864449660854, 0.4835576130155126, 0.48985343884399524, 0.4961461235519261, 0.5024356687083905, 0.5087220758816902, 0.515005346639343, 0.5212854825480845, 0.5275624851738668, 0.5338363560818604, 0.5401070968364536, 0.5463747090012535, 0.5526391941390859, 0.558900553811996, 0.5651587895812487, 0.571413903007329, 0.5776658956499424, 0.5839147690680154, 0.5901605248196956, 0.5964031644623522, 0.6026426895525766, 0.6088791016461826, 0.615112402298207, 0.6213425930629094, 0.6275696754937733, 0.633793651143506, 0.6400145215640396, 0.6462322883065303, 0.65244695292136, 0.6586585169581359, 0.6648669819656912, 0.6710723494920852, 0.6772746210846041, 0.6834737982897613, 0.6896698826532974, 0.6958628757201811, 0.7020527790346092, 0.7082395941400069, 0.714423322579029, 0.720603965893559, 0.7267815256247108]\n"
          ]
        }
      ]
    },
    {
      "cell_type": "code",
      "source": [
        "print(list_lost)"
      ],
      "metadata": {
        "colab": {
          "base_uri": "https://localhost:8080/"
        },
        "id": "zx8zM34Fcsy1",
        "outputId": "1ef497ab-7709-48f1-f2fc-b06b47116e4e"
      },
      "execution_count": null,
      "outputs": [
        {
          "output_type": "stream",
          "name": "stdout",
          "text": [
            "[11208843.880479729, 11198173.701413134, 11187514.179842588, 11176865.305123251, 11166227.066620924, 11155599.45371202, 11144982.455783576, 11134376.06223322, 11123780.262469169, 11113195.045910228, 11102620.40198576, 11092056.320135694, 11081502.789810503, 11070959.800471198, 11060427.341589313, 11049905.402646903, 11039393.97313653, 11028893.04256124, 11018402.600434579, 11007922.636280552, 10997453.139633637, 10986994.100038765, 10976545.507051304, 10966107.350237057, 10955679.619172253, 10945262.303443521, 10934855.392647909, 10924458.876392841, 10914072.744296119, 10903696.98598593, 10893331.591100805, 10882976.549289636, 10872631.850211648, 10862297.483536394, 10851973.438943746, 10841659.706123885, 10831356.274777286, 10821063.13461472, 10810780.275357224, 10800507.686736107, 10790245.35849294, 10779993.280379526, 10769751.44215792, 10759519.833600394, 10749298.444489434, 10739087.264617734, 10728886.283788187, 10718695.491813866, 10708514.878518023, 10698344.433734067, 10688184.147305569, 10678034.009086242, 10667894.008939933, 10657764.136740614, 10647644.382372368, 10637534.735729385, 10627435.18671595, 10617345.725246428, 10607266.341245258, 10597197.024646947, 10587137.765396051, 10577088.553447168, 10567049.378764939, 10557020.231324015, 10547001.101109073, 10536991.97811478, 10526992.852345813, 10517003.71381682, 10507024.552552424, 10497055.358587217, 10487096.121965738, 10477146.832742475, 10467207.480981847, 10457278.056758195, 10447358.550155781, 10437448.951268764, 10427549.250201195, 10417659.43706702, 10407779.50199005, 10397909.435103962, 10388049.226552289, 10378198.866488408, 10368358.345075535, 10358527.652486702, 10348706.778904768, 10338895.714522386, 10329094.449542014, 10319302.974175889, 10309521.278646028, 10299749.353184212, 10289987.188031983, 10280234.773440626, 10270492.099671163, 10260759.156994343, 10251035.935690636, 10241322.42605022, 10231618.618372966, 10221924.502968438, 10212240.070155878, 10202565.3102642]\n"
          ]
        }
      ]
    },
    {
      "cell_type": "code",
      "source": [],
      "metadata": {
        "id": "YCY0nCADy1kI"
      },
      "execution_count": null,
      "outputs": []
    }
  ]
}